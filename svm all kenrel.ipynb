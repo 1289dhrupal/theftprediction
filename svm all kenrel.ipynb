{
 "cells": [
  {
   "cell_type": "code",
   "execution_count": 1,
   "metadata": {},
   "outputs": [],
   "source": [
    "import pandas as pd\n",
    "from sklearn.model_selection import train_test_split\n",
    "from sklearn.preprocessing import StandardScaler\n",
    "df=pd.read_csv('dataset.csv', delimiter=',',skiprows=[1])\n",
    "df=df[df['class']!=1]\n",
    "df.columns = df.columns.str.strip().str.lower().str.replace(' ', '_').str.replace(':', '').str.replace('(', '').str.replace(')', '')\n",
    "X = df.drop(['class'], axis = 1) # We drop our \"target\" feature and use all the remaining features in our dataframe to train the model.\n",
    "X.head()\n",
    "y = df['class']\n",
    "scaler = StandardScaler()\n",
    "X_std = scaler.fit_transform(X)\n",
    "x_tr,x_te,y_tr,y_te=train_test_split(X_std,y,test_size=0.2,random_state=0)"
   ]
  },
  {
   "cell_type": "code",
   "execution_count": 18,
   "metadata": {},
   "outputs": [
    {
     "data": {
      "text/html": [
       "<div>\n",
       "<style scoped>\n",
       "    .dataframe tbody tr th:only-of-type {\n",
       "        vertical-align: middle;\n",
       "    }\n",
       "\n",
       "    .dataframe tbody tr th {\n",
       "        vertical-align: top;\n",
       "    }\n",
       "\n",
       "    .dataframe thead th {\n",
       "        text-align: right;\n",
       "    }\n",
       "</style>\n",
       "<table border=\"1\" class=\"dataframe\">\n",
       "  <thead>\n",
       "    <tr style=\"text-align: right;\">\n",
       "      <th></th>\n",
       "      <th>x</th>\n",
       "      <th>y</th>\n",
       "      <th>z</th>\n",
       "      <th>class</th>\n",
       "    </tr>\n",
       "  </thead>\n",
       "  <tbody>\n",
       "    <tr>\n",
       "      <th>0</th>\n",
       "      <td>0.003531</td>\n",
       "      <td>-0.001853</td>\n",
       "      <td>0.008628</td>\n",
       "      <td>N</td>\n",
       "    </tr>\n",
       "    <tr>\n",
       "      <th>1</th>\n",
       "      <td>0.001942</td>\n",
       "      <td>0.002409</td>\n",
       "      <td>0.010300</td>\n",
       "      <td>N</td>\n",
       "    </tr>\n",
       "    <tr>\n",
       "      <th>2</th>\n",
       "      <td>-0.001358</td>\n",
       "      <td>0.006674</td>\n",
       "      <td>0.009620</td>\n",
       "      <td>N</td>\n",
       "    </tr>\n",
       "    <tr>\n",
       "      <th>3</th>\n",
       "      <td>0.007632</td>\n",
       "      <td>-0.001771</td>\n",
       "      <td>0.005369</td>\n",
       "      <td>N</td>\n",
       "    </tr>\n",
       "    <tr>\n",
       "      <th>4</th>\n",
       "      <td>0.001525</td>\n",
       "      <td>0.002003</td>\n",
       "      <td>0.005182</td>\n",
       "      <td>N</td>\n",
       "    </tr>\n",
       "    <tr>\n",
       "      <th>5</th>\n",
       "      <td>0.002095</td>\n",
       "      <td>0.001336</td>\n",
       "      <td>0.003453</td>\n",
       "      <td>N</td>\n",
       "    </tr>\n",
       "    <tr>\n",
       "      <th>6</th>\n",
       "      <td>0.001163</td>\n",
       "      <td>-0.001847</td>\n",
       "      <td>0.000978</td>\n",
       "      <td>N</td>\n",
       "    </tr>\n",
       "    <tr>\n",
       "      <th>7</th>\n",
       "      <td>-0.000332</td>\n",
       "      <td>-0.003960</td>\n",
       "      <td>0.000541</td>\n",
       "      <td>N</td>\n",
       "    </tr>\n",
       "    <tr>\n",
       "      <th>8</th>\n",
       "      <td>0.000462</td>\n",
       "      <td>-0.002722</td>\n",
       "      <td>0.000358</td>\n",
       "      <td>N</td>\n",
       "    </tr>\n",
       "    <tr>\n",
       "      <th>9</th>\n",
       "      <td>0.003104</td>\n",
       "      <td>-0.004889</td>\n",
       "      <td>-0.009851</td>\n",
       "      <td>N</td>\n",
       "    </tr>\n",
       "    <tr>\n",
       "      <th>10</th>\n",
       "      <td>0.003633</td>\n",
       "      <td>0.000453</td>\n",
       "      <td>-0.000044</td>\n",
       "      <td>N</td>\n",
       "    </tr>\n",
       "    <tr>\n",
       "      <th>11</th>\n",
       "      <td>0.003256</td>\n",
       "      <td>0.000204</td>\n",
       "      <td>-0.006195</td>\n",
       "      <td>N</td>\n",
       "    </tr>\n",
       "    <tr>\n",
       "      <th>12</th>\n",
       "      <td>0.001992</td>\n",
       "      <td>0.000138</td>\n",
       "      <td>-0.004129</td>\n",
       "      <td>N</td>\n",
       "    </tr>\n",
       "    <tr>\n",
       "      <th>13</th>\n",
       "      <td>0.000930</td>\n",
       "      <td>0.002974</td>\n",
       "      <td>-0.005037</td>\n",
       "      <td>N</td>\n",
       "    </tr>\n",
       "    <tr>\n",
       "      <th>14</th>\n",
       "      <td>0.013074</td>\n",
       "      <td>0.009140</td>\n",
       "      <td>-0.008937</td>\n",
       "      <td>N</td>\n",
       "    </tr>\n",
       "    <tr>\n",
       "      <th>15</th>\n",
       "      <td>-0.005866</td>\n",
       "      <td>-0.003000</td>\n",
       "      <td>-0.002370</td>\n",
       "      <td>N</td>\n",
       "    </tr>\n",
       "    <tr>\n",
       "      <th>16</th>\n",
       "      <td>0.002715</td>\n",
       "      <td>-0.004318</td>\n",
       "      <td>-0.003779</td>\n",
       "      <td>N</td>\n",
       "    </tr>\n",
       "    <tr>\n",
       "      <th>17</th>\n",
       "      <td>0.000612</td>\n",
       "      <td>0.002350</td>\n",
       "      <td>-0.003716</td>\n",
       "      <td>N</td>\n",
       "    </tr>\n",
       "    <tr>\n",
       "      <th>18</th>\n",
       "      <td>-0.001599</td>\n",
       "      <td>-0.006766</td>\n",
       "      <td>-0.005658</td>\n",
       "      <td>N</td>\n",
       "    </tr>\n",
       "    <tr>\n",
       "      <th>19</th>\n",
       "      <td>-0.006071</td>\n",
       "      <td>-0.002980</td>\n",
       "      <td>-0.002590</td>\n",
       "      <td>N</td>\n",
       "    </tr>\n",
       "    <tr>\n",
       "      <th>20</th>\n",
       "      <td>0.002928</td>\n",
       "      <td>0.000939</td>\n",
       "      <td>-0.002528</td>\n",
       "      <td>N</td>\n",
       "    </tr>\n",
       "    <tr>\n",
       "      <th>21</th>\n",
       "      <td>-0.000795</td>\n",
       "      <td>-0.012657</td>\n",
       "      <td>-0.006672</td>\n",
       "      <td>N</td>\n",
       "    </tr>\n",
       "    <tr>\n",
       "      <th>22</th>\n",
       "      <td>-0.008692</td>\n",
       "      <td>0.004410</td>\n",
       "      <td>-0.002263</td>\n",
       "      <td>N</td>\n",
       "    </tr>\n",
       "    <tr>\n",
       "      <th>23</th>\n",
       "      <td>0.031642</td>\n",
       "      <td>-0.052599</td>\n",
       "      <td>0.000283</td>\n",
       "      <td>N</td>\n",
       "    </tr>\n",
       "    <tr>\n",
       "      <th>24</th>\n",
       "      <td>0.001819</td>\n",
       "      <td>0.049626</td>\n",
       "      <td>0.000379</td>\n",
       "      <td>N</td>\n",
       "    </tr>\n",
       "    <tr>\n",
       "      <th>25</th>\n",
       "      <td>-0.042858</td>\n",
       "      <td>0.084612</td>\n",
       "      <td>-0.002531</td>\n",
       "      <td>N</td>\n",
       "    </tr>\n",
       "    <tr>\n",
       "      <th>26</th>\n",
       "      <td>-0.021415</td>\n",
       "      <td>0.036339</td>\n",
       "      <td>0.013875</td>\n",
       "      <td>N</td>\n",
       "    </tr>\n",
       "    <tr>\n",
       "      <th>27</th>\n",
       "      <td>-0.269114</td>\n",
       "      <td>-3.209939</td>\n",
       "      <td>1.988560</td>\n",
       "      <td>N</td>\n",
       "    </tr>\n",
       "    <tr>\n",
       "      <th>28</th>\n",
       "      <td>1.658238</td>\n",
       "      <td>-2.880277</td>\n",
       "      <td>0.688143</td>\n",
       "      <td>N</td>\n",
       "    </tr>\n",
       "    <tr>\n",
       "      <th>29</th>\n",
       "      <td>0.323081</td>\n",
       "      <td>-1.101323</td>\n",
       "      <td>-0.433543</td>\n",
       "      <td>N</td>\n",
       "    </tr>\n",
       "    <tr>\n",
       "      <th>...</th>\n",
       "      <td>...</td>\n",
       "      <td>...</td>\n",
       "      <td>...</td>\n",
       "      <td>...</td>\n",
       "    </tr>\n",
       "    <tr>\n",
       "      <th>494</th>\n",
       "      <td>0.399061</td>\n",
       "      <td>1.467627</td>\n",
       "      <td>-0.836674</td>\n",
       "      <td>M</td>\n",
       "    </tr>\n",
       "    <tr>\n",
       "      <th>495</th>\n",
       "      <td>0.961394</td>\n",
       "      <td>-0.433016</td>\n",
       "      <td>-1.174404</td>\n",
       "      <td>M</td>\n",
       "    </tr>\n",
       "    <tr>\n",
       "      <th>496</th>\n",
       "      <td>0.549145</td>\n",
       "      <td>-0.798670</td>\n",
       "      <td>0.415925</td>\n",
       "      <td>M</td>\n",
       "    </tr>\n",
       "    <tr>\n",
       "      <th>497</th>\n",
       "      <td>-0.618790</td>\n",
       "      <td>0.036630</td>\n",
       "      <td>-0.109522</td>\n",
       "      <td>M</td>\n",
       "    </tr>\n",
       "    <tr>\n",
       "      <th>498</th>\n",
       "      <td>-0.703158</td>\n",
       "      <td>-0.577302</td>\n",
       "      <td>0.255521</td>\n",
       "      <td>M</td>\n",
       "    </tr>\n",
       "    <tr>\n",
       "      <th>499</th>\n",
       "      <td>-0.220668</td>\n",
       "      <td>-0.103294</td>\n",
       "      <td>0.030025</td>\n",
       "      <td>M</td>\n",
       "    </tr>\n",
       "    <tr>\n",
       "      <th>500</th>\n",
       "      <td>-0.080746</td>\n",
       "      <td>-0.046340</td>\n",
       "      <td>0.029383</td>\n",
       "      <td>M</td>\n",
       "    </tr>\n",
       "    <tr>\n",
       "      <th>501</th>\n",
       "      <td>-0.082810</td>\n",
       "      <td>-0.056576</td>\n",
       "      <td>0.026082</td>\n",
       "      <td>M</td>\n",
       "    </tr>\n",
       "    <tr>\n",
       "      <th>502</th>\n",
       "      <td>-0.073694</td>\n",
       "      <td>-0.043554</td>\n",
       "      <td>0.025659</td>\n",
       "      <td>M</td>\n",
       "    </tr>\n",
       "    <tr>\n",
       "      <th>503</th>\n",
       "      <td>-0.053950</td>\n",
       "      <td>-0.025617</td>\n",
       "      <td>0.018040</td>\n",
       "      <td>M</td>\n",
       "    </tr>\n",
       "    <tr>\n",
       "      <th>504</th>\n",
       "      <td>-0.473482</td>\n",
       "      <td>0.322221</td>\n",
       "      <td>0.007126</td>\n",
       "      <td>M</td>\n",
       "    </tr>\n",
       "    <tr>\n",
       "      <th>505</th>\n",
       "      <td>0.410375</td>\n",
       "      <td>-0.462035</td>\n",
       "      <td>0.025813</td>\n",
       "      <td>M</td>\n",
       "    </tr>\n",
       "    <tr>\n",
       "      <th>506</th>\n",
       "      <td>-0.046104</td>\n",
       "      <td>-0.004456</td>\n",
       "      <td>0.013216</td>\n",
       "      <td>M</td>\n",
       "    </tr>\n",
       "    <tr>\n",
       "      <th>507</th>\n",
       "      <td>-0.043157</td>\n",
       "      <td>-0.024971</td>\n",
       "      <td>0.013899</td>\n",
       "      <td>M</td>\n",
       "    </tr>\n",
       "    <tr>\n",
       "      <th>508</th>\n",
       "      <td>-0.034884</td>\n",
       "      <td>-0.011977</td>\n",
       "      <td>0.013180</td>\n",
       "      <td>M</td>\n",
       "    </tr>\n",
       "    <tr>\n",
       "      <th>509</th>\n",
       "      <td>-0.041312</td>\n",
       "      <td>-0.019202</td>\n",
       "      <td>0.009770</td>\n",
       "      <td>M</td>\n",
       "    </tr>\n",
       "    <tr>\n",
       "      <th>510</th>\n",
       "      <td>-0.021619</td>\n",
       "      <td>-0.008969</td>\n",
       "      <td>0.008742</td>\n",
       "      <td>M</td>\n",
       "    </tr>\n",
       "    <tr>\n",
       "      <th>511</th>\n",
       "      <td>-0.015177</td>\n",
       "      <td>-0.016541</td>\n",
       "      <td>0.004218</td>\n",
       "      <td>M</td>\n",
       "    </tr>\n",
       "    <tr>\n",
       "      <th>512</th>\n",
       "      <td>-0.020318</td>\n",
       "      <td>-0.006332</td>\n",
       "      <td>0.001417</td>\n",
       "      <td>M</td>\n",
       "    </tr>\n",
       "    <tr>\n",
       "      <th>513</th>\n",
       "      <td>-0.011953</td>\n",
       "      <td>-0.010578</td>\n",
       "      <td>-0.000340</td>\n",
       "      <td>M</td>\n",
       "    </tr>\n",
       "    <tr>\n",
       "      <th>514</th>\n",
       "      <td>-0.009170</td>\n",
       "      <td>-0.003826</td>\n",
       "      <td>0.000408</td>\n",
       "      <td>M</td>\n",
       "    </tr>\n",
       "    <tr>\n",
       "      <th>515</th>\n",
       "      <td>-0.002222</td>\n",
       "      <td>-0.002610</td>\n",
       "      <td>-0.002301</td>\n",
       "      <td>M</td>\n",
       "    </tr>\n",
       "    <tr>\n",
       "      <th>516</th>\n",
       "      <td>-0.010113</td>\n",
       "      <td>-0.009108</td>\n",
       "      <td>0.001651</td>\n",
       "      <td>M</td>\n",
       "    </tr>\n",
       "    <tr>\n",
       "      <th>517</th>\n",
       "      <td>0.012034</td>\n",
       "      <td>0.005684</td>\n",
       "      <td>0.001090</td>\n",
       "      <td>M</td>\n",
       "    </tr>\n",
       "    <tr>\n",
       "      <th>518</th>\n",
       "      <td>-0.019362</td>\n",
       "      <td>0.001185</td>\n",
       "      <td>-0.001205</td>\n",
       "      <td>M</td>\n",
       "    </tr>\n",
       "    <tr>\n",
       "      <th>519</th>\n",
       "      <td>0.003353</td>\n",
       "      <td>0.010374</td>\n",
       "      <td>0.001106</td>\n",
       "      <td>M</td>\n",
       "    </tr>\n",
       "    <tr>\n",
       "      <th>520</th>\n",
       "      <td>0.002530</td>\n",
       "      <td>-0.007851</td>\n",
       "      <td>0.000720</td>\n",
       "      <td>M</td>\n",
       "    </tr>\n",
       "    <tr>\n",
       "      <th>521</th>\n",
       "      <td>-0.007530</td>\n",
       "      <td>-0.010019</td>\n",
       "      <td>0.000470</td>\n",
       "      <td>M</td>\n",
       "    </tr>\n",
       "    <tr>\n",
       "      <th>522</th>\n",
       "      <td>0.002640</td>\n",
       "      <td>0.004758</td>\n",
       "      <td>-0.000983</td>\n",
       "      <td>M</td>\n",
       "    </tr>\n",
       "    <tr>\n",
       "      <th>523</th>\n",
       "      <td>-0.004646</td>\n",
       "      <td>0.002472</td>\n",
       "      <td>0.001884</td>\n",
       "      <td>M</td>\n",
       "    </tr>\n",
       "  </tbody>\n",
       "</table>\n",
       "<p>524 rows × 4 columns</p>\n",
       "</div>"
      ],
      "text/plain": [
       "            x         y         z class\n",
       "0    0.003531 -0.001853  0.008628     N\n",
       "1    0.001942  0.002409  0.010300     N\n",
       "2   -0.001358  0.006674  0.009620     N\n",
       "3    0.007632 -0.001771  0.005369     N\n",
       "4    0.001525  0.002003  0.005182     N\n",
       "..        ...       ...       ...   ...\n",
       "519  0.003353  0.010374  0.001106     M\n",
       "520  0.002530 -0.007851  0.000720     M\n",
       "521 -0.007530 -0.010019  0.000470     M\n",
       "522  0.002640  0.004758 -0.000983     M\n",
       "523 -0.004646  0.002472  0.001884     M\n",
       "\n",
       "[524 rows x 4 columns]"
      ]
     },
     "execution_count": 18,
     "metadata": {},
     "output_type": "execute_result"
    }
   ],
   "source": [
    "df"
   ]
  },
  {
   "cell_type": "code",
   "execution_count": 17,
   "metadata": {},
   "outputs": [
    {
     "data": {
      "image/png": "[encoded data removed]",
      "text/plain": [
       "<Figure size 432x288 with 1 Axes>"
      ]
     },
     "metadata": {},
     "output_type": "display_data"
    }
   ],
   "source": [
    "import seaborn as sns\n",
    "sns.set(style=\"darkgrid\")\n",
    "ax = sns.countplot(x=\"class\", data=df)"
   ]
  },
  {
   "cell_type": "code",
   "execution_count": 19,
   "metadata": {},
   "outputs": [
    {
     "data": {
      "image/png": "[encoded data removed]",
      "text/plain": [
       "<Figure size 432x288 with 1 Axes>"
      ]
     },
     "metadata": {},
     "output_type": "display_data"
    }
   ],
   "source": [
    "import seaborn as sns; sns.set()\n",
    "import matplotlib.pyplot as plt\n",
    "ax = sns.scatterplot(x=\"x\", y=\"y\", hue=\"class\", data=df)"
   ]
  },
  {
   "cell_type": "code",
   "execution_count": 20,
   "metadata": {},
   "outputs": [
    {
     "data": {
      "image/png": "[encoded data removed]",
      "text/plain": [
       "<Figure size 432x288 with 1 Axes>"
      ]
     },
     "metadata": {},
     "output_type": "display_data"
    }
   ],
   "source": [
    "import seaborn as sns; sns.set()\n",
    "import matplotlib.pyplot as plt\n",
    "ax = sns.scatterplot(x=\"z\", y=\"y\", hue=\"class\", data=df)"
   ]
  },
  {
   "cell_type": "code",
   "execution_count": 21,
   "metadata": {},
   "outputs": [
    {
     "data": {
      "image/png": "[encoded data removed]",
      "text/plain": [
       "<Figure size 432x288 with 1 Axes>"
      ]
     },
     "metadata": {},
     "output_type": "display_data"
    }
   ],
   "source": [
    "import seaborn as sns; sns.set()\n",
    "import matplotlib.pyplot as plt\n",
    "ax = sns.scatterplot(x=\"x\", y=\"z\", hue=\"class\", data=df)"
   ]
  },
  {
   "cell_type": "code",
   "execution_count": null,
   "metadata": {},
   "outputs": [],
   "source": []
  },
  {
   "cell_type": "code",
   "execution_count": 2,
   "metadata": {},
   "outputs": [
    {
     "data": {
      "text/plain": [
       "0.6761904761904762"
      ]
     },
     "execution_count": 2,
     "metadata": {},
     "output_type": "execute_result"
    }
   ],
   "source": [
    "from sklearn.metrics import accuracy_score\n",
    "from sklearn.svm import SVC\n",
    "svclassifierlinear = SVC(kernel='linear')\n",
    "svclassifierlinear.fit(x_tr,y_tr)\n",
    "y_pred=svclassifierlinear.predict(x_te)\n",
    "accuracy_score(y_te,y_pred)"
   ]
  },
  {
   "cell_type": "code",
   "execution_count": 3,
   "metadata": {},
   "outputs": [
    {
     "name": "stdout",
     "output_type": "stream",
     "text": [
      "[[16 33]\n",
      " [ 1 55]]\n"
     ]
    }
   ],
   "source": []
  },
  {
   "cell_type": "code",
   "execution_count": 11,
   "metadata": {},
   "outputs": [
    {
     "name": "stdout",
     "output_type": "stream",
     "text": [
      "[[16 33]\n",
      " [ 1 55]]\n"
     ]
    },
    {
     "data": {
      "image/png": "[encoded data removed]",
      "text/plain": [
       "<Figure size 432x288 with 1 Axes>"
      ]
     },
     "metadata": {
      "needs_background": "light"
     },
     "output_type": "display_data"
    },
    {
     "name": "stdout",
     "output_type": "stream",
     "text": [
      "linear Accuracy is 0.6761904761904762\n",
      "linear precision is 0.32653061224489793\n",
      "linear recall is 0.9411764705882353\n"
     ]
    }
   ],
   "source": [
    "# Example of a confusion matrix in Python\n",
    "from sklearn.metrics import confusion_matrix\n",
    "\n",
    "expected = y_te.tolist()\n",
    "predicted =y_pred.tolist()\n",
    "results = confusion_matrix(expected, predicted)\n",
    "print(results)\n",
    "from mlxtend.plotting import plot_confusion_matrix\n",
    "import matplotlib.pyplot as plt\n",
    "import numpy as np\n",
    "\n",
    "binary1 = np.array(results)\n",
    "\n",
    "fig, ax = plot_confusion_matrix(conf_mat=binary1)\n",
    "plt.show()\n",
    "accuracy=(results[0][0]+results[1][1])/((results[0][0]+results[1][1])+(results[0][1]+results[1][0]))\n",
    "print(\"linear Accuracy is \"+str(accuracy))\n",
    "precision=results[0][0]/(results[0][0]+results[0][1])\n",
    "print(\"linear precision is \"+str(precision))\n",
    "recall=results[0][0]/(results[0][0]+results[1][0])\n",
    "print(\"linear recall is \"+str(recall))"
   ]
  },
  {
   "cell_type": "code",
   "execution_count": null,
   "metadata": {},
   "outputs": [],
   "source": []
  },
  {
   "cell_type": "code",
   "execution_count": 9,
   "metadata": {},
   "outputs": [
    {
     "name": "stdout",
     "output_type": "stream",
     "text": [
      "0.6761904761904762\n"
     ]
    }
   ],
   "source": []
  },
  {
   "cell_type": "code",
   "execution_count": null,
   "metadata": {},
   "outputs": [],
   "source": []
  },
  {
   "cell_type": "code",
   "execution_count": 13,
   "metadata": {},
   "outputs": [
    {
     "name": "stderr",
     "output_type": "stream",
     "text": [
      "C:\\Users\\ningesh\\Anaconda3\\envs\\project\\lib\\site-packages\\sklearn\\svm\\base.py:193: FutureWarning: The default value of gamma will change from 'auto' to 'scale' in version 0.22 to account better for unscaled features. Set gamma explicitly to 'auto' or 'scale' to avoid this warning.\n",
      "  \"avoid this warning.\", FutureWarning)\n"
     ]
    },
    {
     "data": {
      "text/plain": [
       "0.7619047619047619"
      ]
     },
     "execution_count": 13,
     "metadata": {},
     "output_type": "execute_result"
    }
   ],
   "source": [
    "svclassifierrbf = SVC(kernel='rbf')\n",
    "svclassifierrbf.fit(x_tr, y_tr)\n",
    "y_pred=svclassifierrbf.predict(x_te)\n",
    "accuracy_score(y_te,y_pred)"
   ]
  },
  {
   "cell_type": "code",
   "execution_count": 14,
   "metadata": {},
   "outputs": [
    {
     "name": "stdout",
     "output_type": "stream",
     "text": [
      "[[33 16]\n",
      " [ 9 47]]\n"
     ]
    },
    {
     "data": {
      "image/png": "[encoded data removed]",
      "text/plain": [
       "<Figure size 432x288 with 1 Axes>"
      ]
     },
     "metadata": {
      "needs_background": "light"
     },
     "output_type": "display_data"
    },
    {
     "name": "stdout",
     "output_type": "stream",
     "text": [
      "rbf Accuracy is 0.7619047619047619\n",
      "rbf precision is 0.673469387755102\n",
      "rbf recall is 0.7857142857142857\n"
     ]
    }
   ],
   "source": [
    "# Example of a confusion matrix in Python\n",
    "from sklearn.metrics import confusion_matrix\n",
    "\n",
    "expected = y_te.tolist()\n",
    "predicted =y_pred.tolist()\n",
    "results = confusion_matrix(expected, predicted)\n",
    "print(results)\n",
    "from mlxtend.plotting import plot_confusion_matrix\n",
    "import matplotlib.pyplot as plt\n",
    "import numpy as np\n",
    "\n",
    "binary1 = np.array(results)\n",
    "\n",
    "fig, ax = plot_confusion_matrix(conf_mat=binary1)\n",
    "plt.show()\n",
    "accuracy=(results[0][0]+results[1][1])/((results[0][0]+results[1][1])+(results[0][1]+results[1][0]))\n",
    "print(\"rbf Accuracy is \"+str(accuracy))\n",
    "precision=results[0][0]/(results[0][0]+results[0][1])\n",
    "print(\"rbf precision is \"+str(precision))\n",
    "recall=results[0][0]/(results[0][0]+results[1][0])\n",
    "print(\"rbf recall is \"+str(recall))"
   ]
  },
  {
   "cell_type": "code",
   "execution_count": 15,
   "metadata": {},
   "outputs": [
    {
     "name": "stderr",
     "output_type": "stream",
     "text": [
      "C:\\Users\\ningesh\\Anaconda3\\envs\\project\\lib\\site-packages\\sklearn\\svm\\base.py:193: FutureWarning: The default value of gamma will change from 'auto' to 'scale' in version 0.22 to account better for unscaled features. Set gamma explicitly to 'auto' or 'scale' to avoid this warning.\n",
      "  \"avoid this warning.\", FutureWarning)\n"
     ]
    },
    {
     "data": {
      "text/plain": [
       "0.7428571428571429"
      ]
     },
     "execution_count": 15,
     "metadata": {},
     "output_type": "execute_result"
    }
   ],
   "source": [
    "svclassifiersigmoid = SVC(kernel='sigmoid')\n",
    "svclassifiersigmoid.fit(x_tr, y_tr)\n",
    "y_pred=svclassifiersigmoid.predict(x_te)\n",
    "accuracy_score(y_te,y_pred)"
   ]
  },
  {
   "cell_type": "code",
   "execution_count": 16,
   "metadata": {},
   "outputs": [
    {
     "name": "stdout",
     "output_type": "stream",
     "text": [
      "[[34 15]\n",
      " [12 44]]\n"
     ]
    },
    {
     "data": {
      "image/png": "[encoded data removed]",
      "text/plain": [
       "<Figure size 432x288 with 1 Axes>"
      ]
     },
     "metadata": {
      "needs_background": "light"
     },
     "output_type": "display_data"
    },
    {
     "name": "stdout",
     "output_type": "stream",
     "text": [
      "sigmoid Accuracy is 0.7428571428571429\n",
      "sigmoid precision is 0.6938775510204082\n",
      "sigmoid recall is 0.7391304347826086\n"
     ]
    }
   ],
   "source": [
    "# Example of a confusion matrix in Python\n",
    "from sklearn.metrics import confusion_matrix\n",
    "\n",
    "expected = y_te.tolist()\n",
    "predicted =y_pred.tolist()\n",
    "results = confusion_matrix(expected, predicted)\n",
    "print(results)\n",
    "from mlxtend.plotting import plot_confusion_matrix\n",
    "import matplotlib.pyplot as plt\n",
    "import numpy as np\n",
    "\n",
    "binary1 = np.array(results)\n",
    "\n",
    "fig, ax = plot_confusion_matrix(conf_mat=binary1)\n",
    "plt.show()\n",
    "accuracy=(results[0][0]+results[1][1])/((results[0][0]+results[1][1])+(results[0][1]+results[1][0]))\n",
    "print(\"sigmoid Accuracy is \"+str(accuracy))\n",
    "precision=results[0][0]/(results[0][0]+results[0][1])\n",
    "print(\"sigmoid precision is \"+str(precision))\n",
    "recall=results[0][0]/(results[0][0]+results[1][0])\n",
    "print(\"sigmoid recall is \"+str(recall))"
   ]
  },
  {
   "cell_type": "code",
   "execution_count": 5,
   "metadata": {},
   "outputs": [],
   "source": [
    "import pickle"
   ]
  },
  {
   "cell_type": "code",
   "execution_count": 6,
   "metadata": {},
   "outputs": [],
   "source": [
    "\n",
    "filename = 'linear_svm_model.sav'\n",
    "pickle.dump(svclassifierlinear, open(filename, 'wb'))"
   ]
  },
  {
   "cell_type": "code",
   "execution_count": null,
   "metadata": {},
   "outputs": [],
   "source": []
  }
 ],
 "metadata": {
  "kernelspec": {
   "display_name": "Python 3",
   "language": "python",
   "name": "python3"
  },
  "language_info": {
   "codemirror_mode": {
    "name": "ipython",
    "version": 3
   },
   "file_extension": ".py",
   "mimetype": "text/x-python",
   "name": "python",
   "nbconvert_exporter": "python",
   "pygments_lexer": "ipython3",
   "version": "3.7.3"
  }
 },
 "nbformat": 4,
 "nbformat_minor": 2
}
